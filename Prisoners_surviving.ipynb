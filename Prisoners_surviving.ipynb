{
  "nbformat": 4,
  "nbformat_minor": 0,
  "metadata": {
    "colab": {
      "name": "Prisoners_surviving.ipynb",
      "provenance": [],
      "collapsed_sections": []
    },
    "kernelspec": {
      "name": "python3",
      "display_name": "Python 3"
    }
  },
  "cells": [
    {
      "cell_type": "code",
      "metadata": {
        "id": "bL7ehrxoEKP7",
        "colab_type": "code",
        "colab": {}
      },
      "source": [
        "import random\n",
        "from matplotlib import pyplot as plt"
      ],
      "execution_count": 0,
      "outputs": []
    },
    {
      "cell_type": "markdown",
      "metadata": {
        "id": "LQMJ7bAYteGa",
        "colab_type": "text"
      },
      "source": [
        "# Will the prisoners survive?\n",
        "Let's say we have some prisoners being held in a prison who are on a death row. One fine day the warden of the prison wanted to have some fun with the prisoners. The warden proposes a challenge to the prisoners and it goes as follows:\n",
        "\n",
        "*   There are n number of prisoners numbered from 1 to n taking part in thechallenge, there are n cards also numbered from 1 to n.\n",
        "*   Now every prisoner walks forwards and picks up a card.\n",
        "*   If the number of the card matches the number of the prisoner, that prisoner is deemed successful.\n",
        "*   And if the card is not, he gets to pick a card again.\n",
        "*   He can pick up a maximum of n/2 cards, if he manages to find his number he is successful, otherwise he is not.\n",
        "\n",
        "Now the warden doesn't really want the prisoners to win the challenge, so he puts forward the following condition:\n",
        "*   If all the prisoners manage to be successful they all get to live.\n",
        "*   But even if one of them fails to be successful, everyone dies!\n"
      ]
    },
    {
      "cell_type": "markdown",
      "metadata": {
        "id": "hbMcMBuowQ_2",
        "colab_type": "text"
      },
      "source": [
        "Let us simulate the challenge proposed by the warden.\n",
        "We define a simple simulate funtion that takes n as the total number of runs i.e. The number of times we wish to run the challenge.\n",
        "The second argument it takes is the number of prisoners. "
      ]
    },
    {
      "cell_type": "markdown",
      "metadata": {
        "id": "6JqouXktxHWz",
        "colab_type": "text"
      },
      "source": [
        "# First Approach:\n",
        "\n",
        "Pretty straight-forward approach would be to just call the prisoners one by one and let them choose random cards and catagorize them as successful or unsuccessful."
      ]
    },
    {
      "cell_type": "code",
      "metadata": {
        "id": "_m9pGHgItbkg",
        "colab_type": "code",
        "colab": {}
      },
      "source": [
        "def simulate(n, prisoners):\n",
        "    numbers = list(range(1, prisoners + 1))\n",
        "    cases = []\n",
        "    ratio = []\n",
        "    for run in range(1, n + 1):\n",
        "        random.shuffle(numbers)\n",
        "        # print(numbers)    #The random list of cards\n",
        "        successful = 0\n",
        "        unsuccessful = 0\n",
        "        for prisoner_number in range(1, prisoners + 1):\n",
        "            choice = prisoner_number\n",
        "\n",
        "            for j in range(1, prisoners // 2 + 1):\n",
        "                x = random.choice(numbers)\n",
        "                if x == choice:\n",
        "                    successful+=1\n",
        "                    break\n",
        "            else:\n",
        "                unsuccessful += 1\n",
        "        #  print(f\"Trial {run} successful: {successful}   Unsuccessfull:{unsuccessful}\")\n",
        "        cases.append((successful, unsuccessful))\n",
        "        ratio.append(successful / prisoners)\n",
        "    return cases, ratio\n"
      ],
      "execution_count": 0,
      "outputs": []
    },
    {
      "cell_type": "code",
      "metadata": {
        "id": "fubVWqwAtcqV",
        "colab_type": "code",
        "colab": {}
      },
      "source": [
        "# Running for some cases to find the overall success probability: \n",
        "def sample_cases(case, simulate_func):\n",
        "    p_list = []\n",
        "    p_avg = []\n",
        "    for _ in range(case):\n",
        "        ans, ratios = simulate_func(total_runs, prisoners)\n",
        "        # print(ans)\n",
        "        \n",
        "        # Uncomment/Comment the line below for that sweet data.\n",
        "        # print(\"Success ratios: \", ratios)\n",
        "        \n",
        "        \n",
        "        ones = ratios.count(1)\n",
        "        # print(ones)\n",
        "        p = ones / total_runs\n",
        "        p_list.append(p)\n",
        "        pav = sum(p_list)/(len(p_list))\n",
        "        p_avg.append(pav)\n",
        "    return p_list, p_avg"
      ],
      "execution_count": 0,
      "outputs": []
    },
    {
      "cell_type": "code",
      "metadata": {
        "id": "rVW3mfAbyYS7",
        "colab_type": "code",
        "colab": {
          "base_uri": "https://localhost:8080/",
          "height": 297
        },
        "outputId": "e5a08443-10e3-45dd-c7d1-769e9d7ccab0"
      },
      "source": [
        "# Tweak these parameters\n",
        "\n",
        "value = 20    # Total prisoners\n",
        "case = 100     # Sample cases\n",
        "\n",
        "\n",
        "prisoners = value\n",
        "total_runs = value\n",
        "p_list, p_avg = sample_cases(case, simulate)\n",
        "# print(p_list)\n",
        "# print(p_avg)\n",
        "\n",
        "print(\"Probability of Prisoners Surviving: \", sum(p_list)/len(p_list))\n",
        "x = range(1, len(p_list)+1)\n",
        "y = p_list\n",
        "plt.plot(x, y, color=\"green\", label='Probabilty for that case')\n",
        "plt.plot(x, p_avg, color=\"red\", label='Average probability of surviving')\n",
        "plt.ylabel('Success Probability')\n",
        "plt.xlabel('Cases#')\n",
        "plt.legend()\n",
        "plt.show()"
      ],
      "execution_count": 33,
      "outputs": [
        {
          "output_type": "stream",
          "text": [
            "Probability of Prisoners Surviving:  0.0\n"
          ],
          "name": "stdout"
        },
        {
          "output_type": "display_data",
          "data": {
            "image/png": "[encoded data removed]",
            "text/plain": [
              "<Figure size 432x288 with 1 Axes>"
            ]
          },
          "metadata": {
            "tags": [],
            "needs_background": "light"
          }
        }
      ]
    },
    {
      "cell_type": "markdown",
      "metadata": {
        "id": "nN4_LCvOzNMg",
        "colab_type": "text"
      },
      "source": [
        "Hmmm....\n",
        "That's quite odd.\n",
        "Did we do something wrong?"
      ]
    },
    {
      "cell_type": "markdown",
      "metadata": {
        "id": "vs3yG2z5zT2B",
        "colab_type": "text"
      },
      "source": [
        "Actually not, as expected the probability of **All the prisoners** surviving is very very low.\n",
        "Even if one of the prisoner fails to find his card, all of the prisoners die. Hence no one survives and as we look at the Success Ratios, none of them is equal to 1, i.e. Everyone surviving."
      ]
    },
    {
      "cell_type": "markdown",
      "metadata": {
        "id": "lHVeo3610F99",
        "colab_type": "text"
      },
      "source": [
        "# Did the warden win?\n",
        "So, prisoners were like: \"Then what are we here for? Just to suffer\" (meme music plays)\n",
        "\n",
        "---\n",
        "\n",
        "Is there no way of winning the challenge and surviving?\n",
        "Actually, there is. Let's look at the following approach."
      ]
    },
    {
      "cell_type": "markdown",
      "metadata": {
        "id": "PTrcBcxA9_rX",
        "colab_type": "text"
      },
      "source": [
        "# Approach 2 (Better):\n",
        "There are n number of prisoners and they are numbered from 1 to n.\n",
        "There is also a list of same numbers but is shuffled. \n",
        "*    Lets say every prisoner starting from 1 goes and picks up the card that is located at the same index as their number.\n",
        "*    If the card picked has the same number as of the prisoner, he is successful.\n",
        "*    If not, he picks another card, **but this time the next card he picks up is the card that was mentioned in the previous card he picked**. If he finds the card he is successful otherwise he picks the next card which is mentioned on the current card. He can repeat this card picking process atmost n/2 times.\n",
        "*    If he runs out of his chances to find the card. He is deemed unsuccessful.\n",
        "\n",
        "\n",
        "If everyone manage to find the card. They all get to live.\n",
        "If anyone of them fails. They all die.\n"
      ]
    },
    {
      "cell_type": "code",
      "metadata": {
        "id": "BdbiHQcF8oaP",
        "colab_type": "code",
        "colab": {}
      },
      "source": [
        "def simulate_better(n, prisoners):\n",
        "    numbers = list(range(1, prisoners + 1))\n",
        "    cases = []\n",
        "    ratio = []\n",
        "    for run in range(1, n + 1):\n",
        "        random.shuffle(numbers)\n",
        "        # print(numbers)      #The random list\n",
        "        successful = 0\n",
        "        unsuccessful = 0\n",
        "        for prisoner_number in range(1, prisoners + 1):\n",
        "            choice = prisoner_number\n",
        "            for j in range(1, prisoners // 2 + 1):\n",
        "                if numbers[choice - 1] == prisoner_number:\n",
        "                    successful += 1\n",
        "                    break\n",
        "                choice = numbers[choice - 1]\n",
        "            else:\n",
        "                unsuccessful += 1\n",
        "        cases.append((successful, unsuccessful))\n",
        "        ratio.append(successful / prisoners)\n",
        "    return cases, ratio\n"
      ],
      "execution_count": 0,
      "outputs": []
    },
    {
      "cell_type": "markdown",
      "metadata": {
        "id": "alXGoFpU8-2r",
        "colab_type": "text"
      },
      "source": [
        "# Tweak these parameters:"
      ]
    },
    {
      "cell_type": "code",
      "metadata": {
        "id": "ouCPK27p8tMa",
        "colab_type": "code",
        "colab": {
          "base_uri": "https://localhost:8080/",
          "height": 297
        },
        "outputId": "895b8d53-73e9-4359-9230-ef6229cd561e"
      },
      "source": [
        "# Tweak these parameters\n",
        "\n",
        "value = 20    # Total prisoners\n",
        "case = 100     # Sample cases\n",
        "\n",
        "prisoners = value\n",
        "total_runs = value\n",
        "p_list, p_avg = sample_cases(case, simulate_better)\n",
        "# print(p_list)\n",
        "# print(p_avg)\n",
        "\n",
        "print(\"Probability of Prisoners Surviving: \", sum(p_list)/len(p_list))\n",
        "x = range(1, len(p_list)+1)\n",
        "y = p_list\n",
        "plt.plot(x, y, color=\"green\", label='Probabilty for that case')\n",
        "plt.plot(x, p_avg, color=\"red\", label='Average probability of surviving')\n",
        "plt.ylabel('Success Probability')\n",
        "plt.xlabel('Cases#')\n",
        "plt.legend()\n",
        "plt.show()"
      ],
      "execution_count": 36,
      "outputs": [
        {
          "output_type": "stream",
          "text": [
            "Probability of Prisoners Surviving:  0.33899999999999997\n"
          ],
          "name": "stdout"
        },
        {
          "output_type": "display_data",
          "data": {
            "image/png": "[encoded data removed]",
            "text/plain": [
              "<Figure size 432x288 with 1 Axes>"
            ]
          },
          "metadata": {
            "tags": [],
            "needs_background": "light"
          }
        }
      ]
    },
    {
      "cell_type": "markdown",
      "metadata": {
        "id": "Tls2Tq7130xQ",
        "colab_type": "text"
      },
      "source": [
        "#  Hmmm. That's quite surprising isn't it?\n",
        "The probability of prisoners surviving jumped from 0 to 0.33 or 33% or (1/3) with just a minor change in the strategy of choosing cards.\n"
      ]
    },
    {
      "cell_type": "markdown",
      "metadata": {
        "id": "InSfhlsZ4U9n",
        "colab_type": "text"
      },
      "source": [
        "The cards being random, the probabilty do show a zigzag pattern, keeping the average probaility same i.e. 0.32. For any number of cases this probability sticks around 0.32. (Try it)."
      ]
    },
    {
      "cell_type": "code",
      "metadata": {
        "id": "Dust_AgC86Es",
        "colab_type": "code",
        "colab": {}
      },
      "source": [
        ""
      ],
      "execution_count": 0,
      "outputs": []
    }
  ]
}